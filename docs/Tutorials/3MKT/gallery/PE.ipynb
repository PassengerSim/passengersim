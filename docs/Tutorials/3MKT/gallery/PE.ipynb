{
 "cells": [
  {
   "cell_type": "markdown",
   "id": "2c055183-aecf-4604-b792-ee04369a0320",
   "metadata": {},
   "source": [
    "# ProBP Optimization"
   ]
  },
  {
   "cell_type": "code",
   "execution_count": null,
   "id": "156610c1-57fd-4f8d-af1e-fce9fe3be310",
   "metadata": {},
   "outputs": [],
   "source": [
    "from textwrap import fill\n",
    "\n",
    "import passengersim as pax\n",
    "\n",
    "pax.versions()"
   ]
  },
  {
   "cell_type": "code",
   "execution_count": null,
   "id": "89b7572f-4541-40d0-b472-cf771296f8f1",
   "metadata": {},
   "outputs": [],
   "source": [
    "cfg = pax.Config.from_yaml(pax.demo_network(\"3MKT\"))"
   ]
  },
  {
   "cell_type": "code",
   "execution_count": null,
   "id": "2eabff79-c97a-4e65-8fb7-ff2354e0571f",
   "metadata": {},
   "outputs": [],
   "source": [
    "cfg.carriers.AL1.rm_system = \"P\"\n",
    "cfg.carriers.AL2.rm_system = \"E\"\n",
    "\n",
    "cfg.simulation_controls.num_trials = 1\n",
    "cfg.simulation_controls.num_samples = 600\n",
    "\n",
    "cfg.outputs.reports.clear()\n",
    "cfg.db = None"
   ]
  },
  {
   "cell_type": "code",
   "execution_count": null,
   "id": "55cea974-057b-4047-b434-15197704c50d",
   "metadata": {},
   "outputs": [],
   "source": [
    "cfg = cfg.model_revalidate()"
   ]
  },
  {
   "cell_type": "code",
   "execution_count": null,
   "id": "4d3f639e-d91c-401a-8b02-92a1e2a8d227",
   "metadata": {},
   "outputs": [],
   "source": [
    "print(fill(cfg.rm_systems.E.description))"
   ]
  },
  {
   "cell_type": "code",
   "execution_count": null,
   "id": "44239eb5-97e6-44c1-b9bd-5dbefb1e5221",
   "metadata": {},
   "outputs": [],
   "source": [
    "print(fill(cfg.rm_systems.P.description))"
   ]
  },
  {
   "cell_type": "code",
   "execution_count": null,
   "id": "5cf935b1-e342-46d8-8fed-2e5bcee01dfd",
   "metadata": {},
   "outputs": [],
   "source": [
    "sim = pax.Simulation(cfg)"
   ]
  },
  {
   "cell_type": "code",
   "execution_count": null,
   "id": "3f2be041-d910-4d0f-b99a-ef763a719ff3",
   "metadata": {},
   "outputs": [],
   "source": [
    "summary = sim.run()"
   ]
  },
  {
   "cell_type": "code",
   "execution_count": null,
   "id": "9f9e2774-e702-48c5-ab4f-ae3b419ad20b",
   "metadata": {},
   "outputs": [],
   "source": [
    "summary.fig_carrier_revenues()"
   ]
  },
  {
   "cell_type": "code",
   "execution_count": null,
   "id": "59427e67-a48a-472f-9f67-a627053799d2",
   "metadata": {},
   "outputs": [],
   "source": [
    "summary.fig_carrier_load_factors()"
   ]
  },
  {
   "cell_type": "code",
   "execution_count": null,
   "id": "8320e2b9-8349-497d-abfe-dcf072950e14",
   "metadata": {},
   "outputs": [],
   "source": [
    "summary.fig_carrier_rasm()"
   ]
  },
  {
   "cell_type": "code",
   "execution_count": null,
   "id": "f13b70e6-f270-4ed4-8a0b-4730e1c77bf6",
   "metadata": {},
   "outputs": [],
   "source": [
    "summary.fig_fare_class_mix()"
   ]
  },
  {
   "cell_type": "code",
   "execution_count": null,
   "id": "d35019ad-de3e-4f1c-a921-282a98770499",
   "metadata": {},
   "outputs": [],
   "source": [
    "summary.fig_bookings_by_timeframe(by_class=True, by_carrier=\"AL1\")"
   ]
  },
  {
   "cell_type": "code",
   "execution_count": null,
   "id": "1cd6795d-40f0-4a9f-95f2-7a0e112b5c9f",
   "metadata": {},
   "outputs": [],
   "source": [
    "summary.fig_carrier_head_to_head_revenue(\"AL1\", \"AL2\")"
   ]
  },
  {
   "cell_type": "code",
   "execution_count": null,
   "id": "0f3287f8-68bc-44a8-9d49-232e118c28de",
   "metadata": {},
   "outputs": [],
   "source": [
    "summary.fig_select_leg_analysis(101)"
   ]
  }
 ],
 "metadata": {
  "kernelspec": {
   "display_name": "Python 3 (ipykernel)",
   "language": "python",
   "name": "python3"
  },
  "language_info": {
   "codemirror_mode": {
    "name": "ipython",
    "version": 3
   },
   "file_extension": ".py",
   "mimetype": "text/x-python",
   "name": "python",
   "nbconvert_exporter": "python",
   "pygments_lexer": "ipython3",
   "version": "3.12.8"
  }
 },
 "nbformat": 4,
 "nbformat_minor": 5
}
