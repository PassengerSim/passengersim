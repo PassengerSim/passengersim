{
 "cells": [
  {
   "cell_type": "markdown",
   "metadata": {},
   "source": [
    "<style>.md-sidebar--secondary {display: none !important;}</style>\n",
    "\n",
    "# Experiments\n",
    "\n",
    "The experiments interface allows the user to easily run and compare a number of different scenarios."
   ]
  },
  {
   "cell_type": "code",
   "execution_count": null,
   "metadata": {},
   "outputs": [],
   "source": [
    "import passengersim as pax\n",
    "\n",
    "pax.versions()"
   ]
  },
  {
   "cell_type": "markdown",
   "metadata": {},
   "source": [
    "The experimentation starts with a base config."
   ]
  },
  {
   "cell_type": "code",
   "execution_count": null,
   "metadata": {},
   "outputs": [],
   "source": [
    "cfg = pax.Config.from_yaml(pax.demo_network(\"3MKT/08-untrunc-em\"))\n",
    "cfg.simulation_controls.num_trials = 1"
   ]
  },
  {
   "cell_type": "markdown",
   "metadata": {},
   "source": [
    "Then, we create an `Experiments` object, which will manage our set of experiments somewhat automatically.\n",
    "This object takes our baseline config as an argument, as well as allows us to\n",
    "set a directory where all experimental output will be stored."
   ]
  },
  {
   "cell_type": "code",
   "execution_count": null,
   "metadata": {
    "tags": [
     "hidden"
    ]
   },
   "outputs": [],
   "source": [
    "# ensure the demo-output directory is empty\n",
    "\n",
    "import shutil\n",
    "\n",
    "shutil.rmtree(\"demo-output\", ignore_errors=True)"
   ]
  },
  {
   "cell_type": "code",
   "execution_count": null,
   "metadata": {},
   "outputs": [],
   "source": [
    "from passengersim.experiments import Experiments\n",
    "\n",
    "experiments = Experiments(cfg, output_dir=\"demo-output\")"
   ]
  },
  {
   "cell_type": "markdown",
   "metadata": {},
   "source": [
    "Now we can define one or more experiments, although as you'll see quickly, the \n",
    "real power of this interface comes when there is more than one experiment.\n",
    "\n",
    "Each experiment is defined by a function that accepts a Config as an \n",
    "argument, and returns a possibly modified Config.  Within this function,\n",
    "you can make any modifications desired: changing simulation controls, swapping \n",
    "out revenue management systems for one or more carriers, or even changing\n",
    "the network structure itself.  Each experiment function is prefixed by the \n",
    "experiments object as decorator, and each should have a unique function name\n",
    "that will be used to identify it."
   ]
  },
  {
   "cell_type": "code",
   "execution_count": null,
   "metadata": {},
   "outputs": [],
   "source": [
    "@experiments\n",
    "def baseline(cfg: pax.Config) -> pax.Config:\n",
    "    return cfg\n",
    "\n",
    "\n",
    "@experiments\n",
    "def low_dmd(cfg: pax.Config) -> pax.Config:\n",
    "    cfg.simulation_controls.demand_multiplier = 0.9\n",
    "    return cfg\n",
    "\n",
    "\n",
    "@experiments\n",
    "def high_dmd(cfg):\n",
    "    cfg.simulation_controls.demand_multiplier = 1.1\n",
    "    return cfg"
   ]
  },
  {
   "cell_type": "markdown",
   "metadata": {},
   "source": [
    "Finally, we can run all the experiments as a batch using the `run` command on the `Experiments` object."
   ]
  },
  {
   "cell_type": "code",
   "execution_count": null,
   "metadata": {},
   "outputs": [],
   "source": [
    "summaries = experiments.run()"
   ]
  },
  {
   "cell_type": "markdown",
   "metadata": {},
   "source": [
    "The return value from this batch run is a passengersim `Contrast` object, which can be used to review the results\n",
    "interactively in a Jupyter notebook."
   ]
  },
  {
   "cell_type": "code",
   "execution_count": null,
   "metadata": {},
   "outputs": [],
   "source": [
    "summaries.fig_carrier_revenues()"
   ]
  },
  {
   "cell_type": "code",
   "execution_count": null,
   "metadata": {},
   "outputs": [],
   "source": [
    "summaries.fig_fare_class_mix()"
   ]
  },
  {
   "cell_type": "markdown",
   "metadata": {},
   "source": [
    "When we ran the experiments, the `demo-output` directory was populated with outputs from each\n",
    "experiment, including a pickle file storing the summary results, as well as an HTML output\n",
    "file that includes key figures and metadata describing the results from that experiment."
   ]
  },
  {
   "cell_type": "code",
   "execution_count": null,
   "metadata": {},
   "outputs": [],
   "source": [
    "from passengersim.utils.show_dir import display_directory_contents\n",
    "\n",
    "display_directory_contents(\"demo-output\")"
   ]
  },
  {
   "cell_type": "markdown",
   "metadata": {},
   "source": [
    "We can change an existing experiment explicitly by writing a new experiment with the same tag, \n",
    "or implicitly by editing the Jupyter notebook and re-running the entire notebook.  Here,\n",
    "we will just edit one experiment by overwriting it (note we do get a warning when we do this)."
   ]
  },
  {
   "cell_type": "code",
   "execution_count": null,
   "metadata": {},
   "outputs": [],
   "source": [
    "@experiments\n",
    "def high_dmd(cfg):  # noqa: F811\n",
    "    cfg.simulation_controls.demand_multiplier = 1.2\n",
    "    return cfg"
   ]
  },
  {
   "cell_type": "markdown",
   "metadata": {},
   "source": [
    "If we now re-run the set of experiments, PassengerSim will detect that some of the experiments\n",
    "are have been run already, and not re-run them in favor of simply reloading from disk.  The\n",
    "loaded results configurations are compared against the experiment configuration, to confirm \n",
    "it is still the same.  For the first two experiments, this is the case and the simulation is\n",
    "*not* re-run.  The change we made in the last experiment is detected, and the loaded results\n",
    "are then discarded in favor of re-running the simulation."
   ]
  },
  {
   "cell_type": "code",
   "execution_count": null,
   "metadata": {},
   "outputs": [],
   "source": [
    "summaries2 = experiments.run()"
   ]
  },
  {
   "cell_type": "code",
   "execution_count": null,
   "metadata": {},
   "outputs": [],
   "source": [
    "summaries2.fig_carrier_revenues()"
   ]
  },
  {
   "cell_type": "code",
   "execution_count": null,
   "metadata": {},
   "outputs": [],
   "source": [
    "summaries2.fig_fare_class_mix()"
   ]
  },
  {
   "cell_type": "markdown",
   "metadata": {},
   "source": [
    "If we inspect the `demo-output` directory, we will see that the results from the old experiment are still\n",
    "available if needed, but they are timestamped so we can clearly identify them as older."
   ]
  },
  {
   "cell_type": "code",
   "execution_count": null,
   "metadata": {},
   "outputs": [],
   "source": [
    "display_directory_contents(\"demo-output\")"
   ]
  },
  {
   "cell_type": "markdown",
   "metadata": {},
   "source": [
    "We can write out a report of the experiments, which contains\n",
    "a variety of standard outputs."
   ]
  },
  {
   "cell_type": "code",
   "execution_count": null,
   "metadata": {},
   "outputs": [],
   "source": [
    "out_file = summaries2.write_report(\"demo-output/meta-summary.html\", base_config=cfg)"
   ]
  },
  {
   "cell_type": "code",
   "execution_count": null,
   "metadata": {},
   "outputs": [],
   "source": [
    "from passengersim.utils.iframe import preview_html\n",
    "\n",
    "preview_html(out_file)"
   ]
  }
 ],
 "metadata": {
  "kernelspec": {
   "display_name": "Python 3 (ipykernel)",
   "language": "python",
   "name": "python3"
  },
  "language_info": {
   "codemirror_mode": {
    "name": "ipython",
    "version": 3
   },
   "file_extension": ".py",
   "mimetype": "text/x-python",
   "name": "python",
   "nbconvert_exporter": "python",
   "pygments_lexer": "ipython3",
   "version": "3.12.0"
  }
 },
 "nbformat": 4,
 "nbformat_minor": 4
}
