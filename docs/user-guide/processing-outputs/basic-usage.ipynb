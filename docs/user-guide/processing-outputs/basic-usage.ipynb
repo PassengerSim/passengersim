{
 "cells": [
  {
   "cell_type": "markdown",
   "metadata": {},
   "source": [
    "# Summary Outputs\n",
    "\n",
    "When you run a simulation in PassengerSim, you will get a `SimulationTables` object.\n",
    "This objects embeds a variety of summary infomation from the run."
   ]
  },
  {
   "cell_type": "code",
   "execution_count": null,
   "metadata": {},
   "outputs": [],
   "source": [
    "import passengersim as pax\n",
    "\n",
    "pax.versions()"
   ]
  },
  {
   "cell_type": "code",
   "execution_count": null,
   "metadata": {},
   "outputs": [],
   "source": [
    "cfg = pax.Config.from_yaml(pax.demo_network(\"3MKT/08-untrunc-em\"))\n",
    "cfg.simulation_controls.num_samples = 300\n",
    "cfg.simulation_controls.num_trials = 2\n",
    "sim = pax.Simulation(cfg)\n",
    "summary = sim.run()"
   ]
  },
  {
   "cell_type": "markdown",
   "metadata": {},
   "source": [
    "The simple `repr` of this object has a bit of information about what data is in there.\n",
    "You can view this in a Jupyter notebook by putting the object as the last line of a cell\n",
    "(or just by itself):"
   ]
  },
  {
   "cell_type": "code",
   "execution_count": null,
   "metadata": {},
   "outputs": [],
   "source": [
    "summary"
   ]
  },
  {
   "cell_type": "markdown",
   "metadata": {},
   "source": [
    "We can see here there are a variety of tables stored as pandas DataFrames. We\n",
    "can access the raw values of any of these dataframes directly in Python as an\n",
    "attribute on the `SimulationTables` object."
   ]
  },
  {
   "cell_type": "code",
   "execution_count": null,
   "metadata": {},
   "outputs": [],
   "source": [
    "summary.carriers"
   ]
  },
  {
   "cell_type": "markdown",
   "metadata": {},
   "source": [
    "There is also some metadata stored on the summary, which can be accessed via the `metadata` method."
   ]
  },
  {
   "cell_type": "code",
   "execution_count": null,
   "metadata": {},
   "outputs": [],
   "source": [
    "summary.metadata()"
   ]
  },
  {
   "cell_type": "markdown",
   "metadata": {},
   "source": [
    "You can access the metadata for a specific key by passing that key as an argument to the method."
   ]
  },
  {
   "cell_type": "code",
   "execution_count": null,
   "metadata": {},
   "outputs": [],
   "source": [
    "summary.metadata(\"time\")"
   ]
  },
  {
   "cell_type": "code",
   "execution_count": null,
   "metadata": {
    "tags": [
     "hidden"
    ]
   },
   "outputs": [],
   "source": [
    "assert \"created\" in summary.metadata(\"time\").keys()\n",
    "assert \"time.created\" in summary.metadata().keys()"
   ]
  },
  {
   "cell_type": "markdown",
   "metadata": {
    "vscode": {
     "languageId": "plaintext"
    }
   },
   "source": [
    "## Saving and Restoring\n",
    "\n",
    "Running a PassengerSim simulation on a practical network can take some time, \n",
    "so it is desirable to save your results after a run.  This allows you to come\n",
    "back to the analyze those results later, or compare against other future scenario\n",
    "permutations.  Saving outputs is done efficiently in the `pickle` format by\n",
    "using the `to_pickle` method.  This will automatically also use LZ4 compression \n",
    "if available, which will reduce the filesize considerably."
   ]
  },
  {
   "cell_type": "code",
   "execution_count": null,
   "metadata": {
    "tags": [
     "hidden"
    ]
   },
   "outputs": [],
   "source": [
    "# ensure the saved-outputs directory starts off empty\n",
    "import shutil\n",
    "\n",
    "shutil.rmtree(\"saved-outputs\", ignore_errors=True)"
   ]
  },
  {
   "cell_type": "code",
   "execution_count": null,
   "metadata": {},
   "outputs": [],
   "source": [
    "summary.to_pickle(\"saved-outputs/summary\")"
   ]
  },
  {
   "cell_type": "markdown",
   "metadata": {},
   "source": [
    "The method will automatically add the appropriate file extension and write the file to disk.\n",
    "By default, it will also add a timestamp, so that you will not overwrite existing similar\n",
    "files."
   ]
  },
  {
   "cell_type": "code",
   "execution_count": null,
   "metadata": {},
   "outputs": [],
   "source": [
    "from passengersim.utils.show_dir import display_directory_contents\n",
    "\n",
    "display_directory_contents(\"saved-outputs\")"
   ]
  },
  {
   "cell_type": "markdown",
   "metadata": {},
   "source": [
    "Restoring from this pickle file can be done, surprisingly enough, using the \n",
    "`from_pickle` method.  You can call this method with the same filename as\n",
    "`to_pickle`, and it will load the file with the most recent timestamp if there\n",
    "is one or more matching file(s) with various timestamps.  To load a specific\n",
    "pickle file that may or may not be the most recent, you can call this method\n",
    "with the complete actual filename, including the timestamp and \".pkl\" or \n",
    "\".pkl.lz4\" suffix."
   ]
  },
  {
   "cell_type": "code",
   "execution_count": null,
   "metadata": {},
   "outputs": [],
   "source": [
    "resummary = pax.SimulationTables.from_pickle(\"saved-outputs/summary\")\n",
    "resummary"
   ]
  },
  {
   "cell_type": "markdown",
   "metadata": {},
   "source": [
    "Once loaded, you can confirm which file was loaded, as that is added to the metadata at load time:"
   ]
  },
  {
   "cell_type": "code",
   "execution_count": null,
   "metadata": {},
   "outputs": [],
   "source": [
    "resummary.metadata(\"loaded\")"
   ]
  },
  {
   "cell_type": "markdown",
   "metadata": {},
   "source": [
    "### Lazy Data Access\n",
    "\n",
    "When it is time to load the data, the pickle format is an all-or-nothing file format: \n",
    "if you only need a tiny bit of information from the file (e.g. what was AL1's revenue?)\n",
    "you still need to read *all* the data in the file: legs, paths, etc. PassengerSim also \n",
    "includes an alternative file format that stores the various data tables from the \n",
    "`SimulationTables` in independently loadable sections.  This format otherwise works the\n",
    "same as the pickle file, but uses `to_file` and `from_file`, and it creates files with\n",
    "a \"*.pxsim\" extension."
   ]
  },
  {
   "cell_type": "code",
   "execution_count": null,
   "metadata": {},
   "outputs": [],
   "source": [
    "summary.to_file(\"saved-outputs/summary\")\n",
    "\n",
    "display_directory_contents(\"saved-outputs\")"
   ]
  },
  {
   "cell_type": "markdown",
   "metadata": {},
   "source": [
    "When opening the file, only the most basic metadata is loaded by the `from_file` method,\n",
    "and the rest is identified as available on demand from storage."
   ]
  },
  {
   "cell_type": "code",
   "execution_count": null,
   "metadata": {},
   "outputs": [],
   "source": [
    "resummary2 = pax.SimulationTables.from_file(\"saved-outputs/summary\")\n",
    "resummary2"
   ]
  },
  {
   "cell_type": "markdown",
   "metadata": {},
   "source": [
    "The metadata about this file is available under the \"store\" key instead of \"loaded\"."
   ]
  },
  {
   "cell_type": "code",
   "execution_count": null,
   "metadata": {},
   "outputs": [],
   "source": [
    "resummary2.metadata(\"store\")"
   ]
  },
  {
   "cell_type": "markdown",
   "metadata": {},
   "source": [
    "Accessing data will load just that table from the file.  this includes accessing a table\n",
    "explicity (by calling for it), or implicitly (e.g. by creating a figure using the data)."
   ]
  },
  {
   "cell_type": "code",
   "execution_count": null,
   "metadata": {},
   "outputs": [],
   "source": [
    "resummary2.carriers"
   ]
  },
  {
   "cell_type": "code",
   "execution_count": null,
   "metadata": {},
   "outputs": [],
   "source": [
    "resummary2.fig_fare_class_mix()"
   ]
  },
  {
   "cell_type": "markdown",
   "metadata": {},
   "source": [
    "We can see in the objects `repr` that the carriers and fare_class_mix tables have been loaded,\n",
    "but the rest are still only in the storage file."
   ]
  },
  {
   "cell_type": "code",
   "execution_count": null,
   "metadata": {},
   "outputs": [],
   "source": [
    "resummary2"
   ]
  }
 ],
 "metadata": {
  "kernelspec": {
   "display_name": "Python 3 (ipykernel)",
   "language": "python",
   "name": "python3"
  },
  "language_info": {
   "codemirror_mode": {
    "name": "ipython",
    "version": 3
   },
   "file_extension": ".py",
   "mimetype": "text/x-python",
   "name": "python",
   "nbconvert_exporter": "python",
   "pygments_lexer": "ipython3",
   "version": "3.12.0"
  }
 },
 "nbformat": 4,
 "nbformat_minor": 4
}
