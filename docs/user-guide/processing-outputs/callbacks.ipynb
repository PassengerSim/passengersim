{
 "cells": [
  {
   "cell_type": "markdown",
   "metadata": {},
   "source": [
    "# Callbacks\n",
    "\n",
    "PassengerSim includes a variety of optimized data collection processes\n",
    "that run automatically during a simulation, but these pre-selected data\n",
    "may not be sufficient for every analysis.  To supplement this, users can \n",
    "choose to additionally collect any other data while running a simulation.\n",
    "This is done by writing a \"callback\" function.  Such a function is invoked\n",
    "regularly while the simulation is running, and can inspect and store almost\n",
    "anything from the Simulation object.\n",
    "\n"
   ]
  },
  {
   "cell_type": "code",
   "execution_count": null,
   "metadata": {},
   "outputs": [],
   "source": [
    "import passengersim as pax\n",
    "\n",
    "pax.versions()"
   ]
  },
  {
   "cell_type": "markdown",
   "metadata": {},
   "source": [
    "Here, we'll run a quick demo using the \"3MKT\" example model.  We'll\n",
    "give AL1 the 'P' RM system to make it interesting."
   ]
  },
  {
   "cell_type": "code",
   "execution_count": null,
   "metadata": {},
   "outputs": [],
   "source": [
    "cfg = pax.Config.from_yaml(pax.demo_network(\"3MKT\"))\n",
    "\n",
    "cfg.simulation_controls.num_samples = 100\n",
    "cfg.simulation_controls.burn_samples = 50\n",
    "cfg.simulation_controls.num_trials = 1\n",
    "cfg.db = None\n",
    "cfg.outputs.reports.clear()\n",
    "\n",
    "cfg.carriers.AL1.rm_system = \"P\"\n",
    "\n",
    "sim = pax.Simulation(cfg)"
   ]
  },
  {
   "cell_type": "markdown",
   "metadata": {},
   "source": [
    "## Types of Callback Functions\n",
    "\n",
    "To collect data, we can write a function that will interrogate the simulation and \n",
    "grab whatever info we are looking for.  There are three different points\n",
    "where we can attach data collection callback functions:\n",
    "\n",
    "- `begin_sample`, which will trigger data collection at the beginning of each\n",
    "    sample, after the RM systems for each carrier are initialized (e.g. with\n",
    "    forecasts, etc) but before any customers can arrive.\n",
    "- `end_sample`, which will trigger data collection at the end of each\n",
    "    sample, after customers have arrive and all bookings have be finalized.\n",
    "- `daily`, which will trigger data collection once per day during every sample,\n",
    "    just after any DCP or daily RM system updates are run.\n",
    "\n",
    "The first two callbacks (begin and end sample) are written as a function that accepts one argument \n",
    "(the `Simulation` object), and either returns nothing (to ignore that event)\n",
    "or returns a dictionary of values to store, where the keys are all strings\n",
    "naming what's being stored and the values can be whatever is of interest.\n",
    "We can attach each callback to the Simulation by using a Python decorator.\n",
    "\n",
    "## Example Callback Functions\n",
    "\n",
    "For example, here we create a callback to collect carrier revenue at the end \n",
    "of every sample. Note that we skip the burn period by returning nothing for those\n",
    "samples; this is not required by the callback algorithm but is good practice for\n",
    "analysis."
   ]
  },
  {
   "cell_type": "code",
   "execution_count": null,
   "metadata": {},
   "outputs": [],
   "source": [
    "@sim.end_sample_callback\n",
    "def collect_carrier_revenue(sim):\n",
    "    if sim.sim.sample < sim.sim.burn_samples:\n",
    "        return\n",
    "    return {c.name: c.revenue for c in sim.sim.carriers}"
   ]
  },
  {
   "cell_type": "markdown",
   "metadata": {},
   "source": [
    "The daily callback operates similarly, except it accepts a second argument that gives the \n",
    "number of days prior to departure for this day.  You don't need to *use* the second argument\n",
    "in the callback function, but you need to including in the function signature (and you can\n",
    "use it if desired, e.g. to collect data only at DCPs instead of every day).  In the example \n",
    "here, we collect daily carrier revenue, but only every 7th sample, which is a good way\n",
    "to reduce the overhead from collecting detailed data."
   ]
  },
  {
   "cell_type": "code",
   "execution_count": null,
   "metadata": {},
   "outputs": [],
   "source": [
    "@sim.daily_callback\n",
    "def collect_carrier_revenue_detail(sim, days_prior):\n",
    "    if sim.sim.sample < sim.sim.burn_samples:\n",
    "        return\n",
    "    if sim.sim.sample % 7 == 0:\n",
    "        return {c.name: c.revenue for c in sim.sim.carriers}"
   ]
  },
  {
   "cell_type": "markdown",
   "metadata": {},
   "source": [
    "Multiple callbacks of the same kind can be attached (i.e. there can be two\n",
    "end_sample callbacks).  The only limitation is that the named values in \n",
    "the return values of each callback function must be unique, or else they\n",
    "will overwrite one another.\n",
    "\n",
    "Once we have attached all desired callbacks, we can run the simulation as normal."
   ]
  },
  {
   "cell_type": "code",
   "execution_count": null,
   "metadata": {},
   "outputs": [],
   "source": [
    "summary = sim.run()"
   ]
  },
  {
   "cell_type": "markdown",
   "metadata": {},
   "source": [
    "All the usual summary data remains available for review and analysis."
   ]
  },
  {
   "cell_type": "code",
   "execution_count": null,
   "metadata": {},
   "outputs": [],
   "source": [
    "summary.fig_carrier_revenues()"
   ]
  },
  {
   "cell_type": "markdown",
   "metadata": {},
   "source": [
    "## Callback Data\n",
    "\n",
    "In addition to the usual suspects, the summary object includes the collected callback data from\n",
    "our callback functions."
   ]
  },
  {
   "cell_type": "code",
   "execution_count": null,
   "metadata": {},
   "outputs": [],
   "source": [
    "summary.callback_data"
   ]
  },
  {
   "cell_type": "markdown",
   "metadata": {},
   "source": [
    "Because we connected a \"daily\" callback, the data we collected is available under the \n",
    "`callback_data.daily` accessor."
   ]
  },
  {
   "cell_type": "code",
   "execution_count": null,
   "metadata": {},
   "outputs": [],
   "source": [
    "summary.callback_data.daily[:5]"
   ]
  },
  {
   "cell_type": "markdown",
   "metadata": {},
   "source": [
    "As you might expect, the \"begin_sample\" or \"end_sample\"\n",
    "callbacks are available under `callback_data.begin_sample` or `callback_data.end_sample`, \n",
    "respectively."
   ]
  },
  {
   "cell_type": "code",
   "execution_count": null,
   "metadata": {},
   "outputs": [],
   "source": [
    "summary.callback_data.end_sample[:5]"
   ]
  },
  {
   "cell_type": "markdown",
   "metadata": {},
   "source": [
    "The callback data can include pretty much anything, so it is stored in a \n",
    "very flexible (but inefficient) format: a list of dict's.  If the content\n",
    "of the dicts is fairly simple (numbers, tuples, lists, or nexted dictionaries thereof), \n",
    "it can be converted into a pandas DataFrame using the `to_dataframe` method\n",
    "on the `callback_data` attribute.  This may make subsequent analysis easier."
   ]
  },
  {
   "cell_type": "code",
   "execution_count": null,
   "metadata": {},
   "outputs": [],
   "source": [
    "summary.callback_data.to_dataframe(\"daily\")"
   ]
  },
  {
   "cell_type": "markdown",
   "metadata": {},
   "source": [
    "Users are free to process this callback data now however they like, with typical\n",
    "Python tools: analyze, visualize, interpret, etc. "
   ]
  },
  {
   "cell_type": "code",
   "execution_count": null,
   "metadata": {},
   "outputs": [],
   "source": [
    "import altair as alt\n",
    "\n",
    "alt.Chart(\n",
    "    summary.callback_data.to_dataframe(\"daily\").eval(\"DIFF = AL1 - AL2\")\n",
    ").mark_line().encode(\n",
    "    x=alt.X(\"days_prior\", scale=alt.Scale(reverse=True)),\n",
    "    y=\"DIFF\",\n",
    "    color=\"sample:N\",\n",
    ")"
   ]
  }
 ],
 "metadata": {
  "kernelspec": {
   "display_name": "Python 3 (ipykernel)",
   "language": "python",
   "name": "python3"
  },
  "language_info": {
   "codemirror_mode": {
    "name": "ipython",
    "version": 3
   },
   "file_extension": ".py",
   "mimetype": "text/x-python",
   "name": "python",
   "nbconvert_exporter": "python",
   "pygments_lexer": "ipython3",
   "version": "3.12.0"
  }
 },
 "nbformat": 4,
 "nbformat_minor": 4
}
