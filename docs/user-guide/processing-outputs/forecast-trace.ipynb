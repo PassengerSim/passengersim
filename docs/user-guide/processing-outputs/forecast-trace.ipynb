{
 "cells": [
  {
   "cell_type": "markdown",
   "metadata": {},
   "source": [
    "# Forecast Tracing\n",
    "\n",
    "In addition to the completely flexible `callback` data storage system,\n",
    "PassengerSim also includes the ability to \"trace\" certain details of the \n",
    "simulation.  Traces are more aggregate than other callbacks, as they will\n",
    "follow the average values of various measures over many samples.  Unlike\n",
    "other aggregate measures, they allow for the selection of a limited number of \n",
    "micro-level details, e.g. path forecasts for specific paths, or bid prices on\n",
    "specific legs.  This contrasts with the database functionality, which can\n",
    "(relatively) efficiently store this information for *all* paths or legs.\n",
    "Tracing allows the analyst to probe a simulation for details of interest\n",
    "without becoming bogged down in the recording and storage of massive amounts\n",
    "of data that really isn't needed."
   ]
  },
  {
   "cell_type": "code",
   "execution_count": null,
   "metadata": {},
   "outputs": [],
   "source": [
    "import passengersim as pax\n",
    "\n",
    "pax.versions()"
   ]
  },
  {
   "cell_type": "markdown",
   "metadata": {},
   "source": [
    "Here, we'll run a quick demo using the \"3MKT\" example model.  We'll\n",
    "give AL1 the 'P' RM system to make it interesting."
   ]
  },
  {
   "cell_type": "code",
   "execution_count": null,
   "metadata": {},
   "outputs": [],
   "source": [
    "cfg = pax.Config.from_yaml(pax.demo_network(\"3MKT\"))\n",
    "\n",
    "cfg.simulation_controls.num_samples = 400\n",
    "cfg.simulation_controls.burn_samples = 50\n",
    "cfg.simulation_controls.num_trials = 1\n",
    "cfg.db = None\n",
    "cfg.outputs.reports.clear()\n",
    "\n",
    "cfg.carriers.AL1.rm_system = \"P\"\n",
    "\n",
    "sim = pax.Simulation(cfg)"
   ]
  },
  {
   "cell_type": "markdown",
   "metadata": {},
   "source": [
    "The path forecast tracing capabilities allows us to record detailed data about a subset of \n",
    "Simulation path forecasts, so we can review them after the simulation."
   ]
  },
  {
   "cell_type": "code",
   "execution_count": null,
   "metadata": {},
   "outputs": [],
   "source": [
    "from passengersim.tracers.forecasts import (\n",
    "    PathForecastTracer,\n",
    "    fig_path_forecast_dashboard,\n",
    ")\n",
    "\n",
    "tracer = PathForecastTracer(path_ids=[1, 9])\n",
    "tracer.attach(sim)"
   ]
  },
  {
   "cell_type": "code",
   "execution_count": null,
   "metadata": {},
   "outputs": [],
   "source": [
    "summary = sim.run()"
   ]
  },
  {
   "cell_type": "markdown",
   "metadata": {},
   "source": [
    "All the usual summary data remains available for review and analysis."
   ]
  },
  {
   "cell_type": "code",
   "execution_count": null,
   "metadata": {},
   "outputs": [],
   "source": [
    "summary.fig_carrier_revenues()"
   ]
  },
  {
   "cell_type": "code",
   "execution_count": null,
   "metadata": {},
   "outputs": [],
   "source": [
    "summary.fig_fare_class_mix()"
   ]
  },
  {
   "cell_type": "markdown",
   "metadata": {},
   "source": [
    "## Path Forecast Dashboards\n",
    "\n",
    "For the selected paths, we can review a dashboard that shows the forecast mean and std dev \n",
    "for each fare class from each DCP through departure, the mean forecast within each timeframe,\n",
    "as well as history data on yieldable and (if recorded seperately) priceable sales, and average\n",
    "closure rates at each DCP."
   ]
  },
  {
   "cell_type": "code",
   "execution_count": null,
   "metadata": {},
   "outputs": [],
   "source": [
    "fig_path_forecast_dashboard(summary, path_id=1)"
   ]
  },
  {
   "cell_type": "code",
   "execution_count": null,
   "metadata": {},
   "outputs": [],
   "source": [
    "fig_path_forecast_dashboard(summary, path_id=9)"
   ]
  },
  {
   "cell_type": "markdown",
   "metadata": {},
   "source": [
    "## Tracers in Callback Data\n",
    "\n",
    "All the underlying data for these reports is stored in the summary's `callback_data` attribute, if you want to access \n",
    "it to parse or visualize it differently."
   ]
  },
  {
   "cell_type": "code",
   "execution_count": null,
   "metadata": {},
   "outputs": [],
   "source": [
    "summary.callback_data.selected_path_forecasts"
   ]
  },
  {
   "cell_type": "markdown",
   "metadata": {},
   "source": [
    "## Relationship to Callbacks\n",
    "\n",
    "Unlike other callback data, the tracers are not stored by sample day, as that would \n",
    "generally create an overwhelming amount of data to store, and we are typically not \n",
    "interested in that much detail.  If we are interested in grabbing and storing path forecast\n",
    "data for individual sample days, we can still do that with the regular callback interface."
   ]
  },
  {
   "cell_type": "code",
   "execution_count": null,
   "metadata": {},
   "outputs": [],
   "source": [
    "sim1 = pax.Simulation(cfg)"
   ]
  },
  {
   "cell_type": "code",
   "execution_count": null,
   "metadata": {},
   "outputs": [],
   "source": [
    "@sim1.begin_sample_callback\n",
    "def grab_forecasts(sim):\n",
    "    if sim.sim.sample not in [300, 375]:\n",
    "        return\n",
    "    return {f\"path-{p}\": sim.sim.paths.select(path_id=p).get_forecast_data() for p in [1, 9]}"
   ]
  },
  {
   "cell_type": "code",
   "execution_count": null,
   "metadata": {},
   "outputs": [],
   "source": [
    "summary1 = sim1.run()"
   ]
  },
  {
   "cell_type": "markdown",
   "metadata": {},
   "source": [
    "When run like this, we capture not the average path forecast over the simulation,\n",
    "but rather the exact path forecast for the selected paths (1 and 9) at \n",
    "sample days 300 and 375.  The data is stored in the `callback_data.begin_sample`\n",
    "attribute:"
   ]
  },
  {
   "cell_type": "code",
   "execution_count": null,
   "metadata": {},
   "outputs": [],
   "source": [
    "summary1.callback_data.begin_sample"
   ]
  },
  {
   "cell_type": "markdown",
   "metadata": {},
   "source": [
    "We can review the details of each specific forecast by accessing \n",
    "the dashboard visualization."
   ]
  },
  {
   "cell_type": "code",
   "execution_count": null,
   "metadata": {},
   "outputs": [],
   "source": [
    "summary1.callback_data.begin_sample[0][\"path-1\"].dashboard()"
   ]
  },
  {
   "cell_type": "markdown",
   "metadata": {},
   "source": [
    "We can also access individual sub-tables of forecast data as pandas DataFrames, \n",
    "to manipulate or visualize as we like."
   ]
  },
  {
   "cell_type": "code",
   "execution_count": null,
   "metadata": {},
   "outputs": [],
   "source": [
    "summary1.callback_data.begin_sample[0][\"path-1\"].history_sold_yieldable"
   ]
  },
  {
   "cell_type": "code",
   "execution_count": null,
   "metadata": {},
   "outputs": [],
   "source": [
    "summary1.callback_data.begin_sample[0][\"path-1\"].mean_in_timeframe"
   ]
  }
 ],
 "metadata": {
  "kernelspec": {
   "display_name": "Python 3 (ipykernel)",
   "language": "python",
   "name": "python3"
  },
  "language_info": {
   "codemirror_mode": {
    "name": "ipython",
    "version": 3
   },
   "file_extension": ".py",
   "mimetype": "text/x-python",
   "name": "python",
   "nbconvert_exporter": "python",
   "pygments_lexer": "ipython3",
   "version": "3.12.0"
  }
 },
 "nbformat": 4,
 "nbformat_minor": 4
}
