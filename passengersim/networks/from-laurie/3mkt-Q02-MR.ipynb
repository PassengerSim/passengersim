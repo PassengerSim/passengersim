{
 "cells": [
  {
   "cell_type": "markdown",
   "id": "074357ec-407b-409a-ab22-b658573890e8",
   "metadata": {},
   "source": [
    "<style>.md-sidebar--secondary {display: none !important;}</style>\n",
    "\n",
    "# Q-Forecasting\n",
    "\n",
    "In this example, we use Q-forecasting for a product set that includes no product restrictions and no advance purchase (AP) restrictions in the simulation, and have each airline forecast path demand using a FRAT-5 C curve and use an EMSR-b leg algorithm to manage revenue.  No flight-level EM detruncation is used. This also uses MR fare adjustment"
   ]
  },
  {
   "cell_type": "code",
   "execution_count": null,
   "id": "47aa4d6a-3fa2-4779-ba2e-58e06dc6b1b2",
   "metadata": {},
   "outputs": [],
   "source": [
    "import passengersim as pax\n",
    "\n",
    "pax.versions()"
   ]
  },
  {
   "cell_type": "code",
   "execution_count": null,
   "id": "e4e958c9-be0e-4b13-87ce-e2cd98a93fa9",
   "metadata": {},
   "outputs": [],
   "source": [
    "import verification_tools as vt"
   ]
  },
  {
   "cell_type": "code",
   "execution_count": null,
   "id": "046d6035-b590-46fb-bfe8-4830304f64ae",
   "metadata": {},
   "outputs": [],
   "source": [
    "cfg = pax.Config.from_yaml([\"configs/04-Q-MR-FA.yaml\"])"
   ]
  },
  {
   "cell_type": "code",
   "execution_count": null,
   "id": "47e6e129-a902-44b3-b265-61ff3f178e90",
   "metadata": {},
   "outputs": [],
   "source": [
    "sim = pax.Simulation(cfg)"
   ]
  },
  {
   "cell_type": "code",
   "execution_count": null,
   "id": "e7644d17-393b-461b-b7ec-a7af9c79efdc",
   "metadata": {},
   "outputs": [],
   "source": [
    "summary = sim.run(log_reports=False)"
   ]
  },
  {
   "cell_type": "code",
   "execution_count": null,
   "id": "e1ab1041",
   "metadata": {
    "jupyter": {
     "outputs_hidden": false
    }
   },
   "outputs": [],
   "source": [
    "summary.fig_carrier_revenues()"
   ]
  },
  {
   "cell_type": "code",
   "execution_count": null,
   "id": "7b3d0737",
   "metadata": {},
   "outputs": [],
   "source": [
    "summary.fig_carrier_load_factors()"
   ]
  },
  {
   "cell_type": "code",
   "execution_count": null,
   "id": "5f837f66",
   "metadata": {
    "jupyter": {
     "outputs_hidden": false
    }
   },
   "outputs": [],
   "source": [
    "summary.fig_fare_class_mix()"
   ]
  },
  {
   "cell_type": "code",
   "execution_count": null,
   "id": "9e9d3c25-0f07-41e0-a2d4-5a761a573f65",
   "metadata": {},
   "outputs": [],
   "source": [
    "summary.fig_leg_forecasts(by_leg_id=101)"
   ]
  },
  {
   "cell_type": "code",
   "execution_count": null,
   "id": "b4ef3397-ba51-419b-9a37-eb5d75cc6c40",
   "metadata": {},
   "outputs": [],
   "source": [
    "summary.fig_path_forecasts(by_path_id=1)"
   ]
  },
  {
   "cell_type": "code",
   "execution_count": null,
   "id": "0a5f2b50-6bda-4068-90fb-69117e722eac",
   "metadata": {},
   "outputs": [],
   "source": [
    "summary.fig_bookings_by_timeframe(by_carrier=\"AL1\", by_class=True)"
   ]
  },
  {
   "cell_type": "code",
   "execution_count": null,
   "id": "ff82cf76-46ba-47b7-9e6a-7f06fa499651",
   "metadata": {},
   "outputs": [],
   "source": [
    "# summary.to_xlsx(\"outputs/3mkt-16.xlsx\")"
   ]
  },
  {
   "cell_type": "markdown",
   "id": "ef0149d7-69d6-4a13-a763-8732bab96fad",
   "metadata": {},
   "source": [
    "## Comparing against Targets"
   ]
  },
  {
   "cell_type": "code",
   "execution_count": null,
   "id": "db23ae9b-f73f-46a7-a5bf-11a65668734c",
   "metadata": {},
   "outputs": [],
   "source": [
    "target = vt.pods(\"pods-targets/03_qnt.SOT\", config=cfg)"
   ]
  },
  {
   "cell_type": "code",
   "execution_count": null,
   "id": "658336d8-3ceb-4605-aafb-4dc5ca9a5bb3",
   "metadata": {},
   "outputs": [],
   "source": [
    "from passengersim import contrast\n",
    "\n",
    "comps = contrast.Contrast(\n",
    "    {\n",
    "        \"simulation\": summary,\n",
    "        \"target\": target,\n",
    "    }\n",
    ")"
   ]
  },
  {
   "cell_type": "code",
   "execution_count": null,
   "id": "0d783537-5ca5-4c28-a485-dc8f220ddb3c",
   "metadata": {},
   "outputs": [],
   "source": [
    "comps.fig_carrier_revenues()"
   ]
  },
  {
   "cell_type": "code",
   "execution_count": null,
   "id": "d373307a-dab9-47d6-8bda-9c00943a4249",
   "metadata": {},
   "outputs": [],
   "source": [
    "comps.fig_carrier_load_factors()"
   ]
  },
  {
   "cell_type": "code",
   "execution_count": null,
   "id": "b18c6e52-75c1-41c3-91c6-fd6043e6e93c",
   "metadata": {},
   "outputs": [],
   "source": [
    "comps.fig_fare_class_mix()"
   ]
  },
  {
   "cell_type": "code",
   "execution_count": null,
   "id": "1f845852-441b-4a07-bac8-0340f3d31f38",
   "metadata": {},
   "outputs": [],
   "source": [
    "comps.fig_bookings_by_timeframe(by_carrier=\"AL1\", by_class=True)"
   ]
  },
  {
   "cell_type": "code",
   "execution_count": null,
   "id": "a25b076d-f2fa-451c-94cd-180ba5126349",
   "metadata": {},
   "outputs": [],
   "source": [
    "comps.fig_leg_forecasts(by_leg_id=101, of=[\"mu\", \"sigma\"])"
   ]
  },
  {
   "cell_type": "code",
   "execution_count": null,
   "id": "7a65048a-bb42-4713-bd66-8f076f3c9641",
   "metadata": {},
   "outputs": [],
   "source": [
    "comps.fig_leg_forecasts(by_leg_id=211, of=[\"mu\", \"sigma\"])"
   ]
  },
  {
   "cell_type": "code",
   "execution_count": null,
   "id": "b7844c04-7baa-4f79-847f-cc8939271da0",
   "metadata": {},
   "outputs": [],
   "source": []
  },
  {
   "cell_type": "code",
   "execution_count": null,
   "id": "1b29cf23-f3fa-466a-8a0a-bec922e304d2",
   "metadata": {},
   "outputs": [],
   "source": []
  },
  {
   "cell_type": "code",
   "execution_count": null,
   "id": "50d22a6c-da33-4f7b-84a1-88e48d4eca92",
   "metadata": {},
   "outputs": [],
   "source": []
  },
  {
   "cell_type": "code",
   "execution_count": null,
   "id": "c9122a3a-57f2-42d5-8728-dec1c58fed57",
   "metadata": {},
   "outputs": [],
   "source": []
  },
  {
   "cell_type": "code",
   "execution_count": null,
   "id": "46be404d-7417-46e7-81ce-12bb00ee66d4",
   "metadata": {},
   "outputs": [],
   "source": []
  },
  {
   "cell_type": "code",
   "execution_count": null,
   "id": "6580bd92-d1fd-4fdb-997a-4f3c2bb985a4",
   "metadata": {},
   "outputs": [],
   "source": []
  },
  {
   "cell_type": "code",
   "execution_count": null,
   "id": "7efa037b-d4fe-43d4-b122-e8abb95f8775",
   "metadata": {},
   "outputs": [],
   "source": []
  }
 ],
 "metadata": {
  "kernelspec": {
   "display_name": "Python 3 (ipykernel)",
   "language": "python",
   "name": "python3"
  },
  "language_info": {
   "codemirror_mode": {
    "name": "ipython",
    "version": 3
   },
   "file_extension": ".py",
   "mimetype": "text/x-python",
   "name": "python",
   "nbconvert_exporter": "python",
   "pygments_lexer": "ipython3",
   "version": "3.11.6"
  }
 },
 "nbformat": 4,
 "nbformat_minor": 5
}
