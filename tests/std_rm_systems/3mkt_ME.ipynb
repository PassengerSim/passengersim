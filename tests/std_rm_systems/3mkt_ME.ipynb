{
 "cells": [
  {
   "cell_type": "code",
   "execution_count": null,
   "metadata": {},
   "outputs": [],
   "source": [
    "import numpy as np\n",
    "import pandas as pd\n",
    "\n",
    "import passengersim as pax\n",
    "\n",
    "pax.versions()"
   ]
  },
  {
   "cell_type": "code",
   "execution_count": null,
   "metadata": {},
   "outputs": [],
   "source": [
    "cfg = pax.Config.from_yaml(pax.demo_network(\"3MKT\"))\n",
    "cfg.carriers.AL1.rm_system = \"M\"\n",
    "cfg.carriers.AL2.rm_system = \"E\"\n",
    "cfg.simulation_controls.num_trials = 1"
   ]
  },
  {
   "cell_type": "code",
   "execution_count": null,
   "metadata": {},
   "outputs": [],
   "source": [
    "cfg = cfg.model_revalidate()\n",
    "\n",
    "cfg.rm_systems.M.processes.dcp.forecast.max_cap = 10.0\n",
    "\n",
    "# cfg.rm_systems.M.processes.dcp.forecast.fare_adjustment_scale = 1.0"
   ]
  },
  {
   "cell_type": "code",
   "execution_count": null,
   "metadata": {},
   "outputs": [],
   "source": [
    "sim = pax.Simulation(cfg)"
   ]
  },
  {
   "cell_type": "code",
   "execution_count": null,
   "metadata": {},
   "outputs": [],
   "source": [
    "summary = sim.run()"
   ]
  },
  {
   "cell_type": "code",
   "execution_count": null,
   "metadata": {},
   "outputs": [],
   "source": [
    "for k, v in summary._data.items():\n",
    "    print(k, type(v))"
   ]
  },
  {
   "cell_type": "code",
   "execution_count": null,
   "metadata": {},
   "outputs": [],
   "source": [
    "summary.fig_carrier_revenues()"
   ]
  },
  {
   "cell_type": "code",
   "execution_count": null,
   "metadata": {},
   "outputs": [],
   "source": [
    "summary.fig_carrier_load_factors()  # 89.07/87.04"
   ]
  },
  {
   "cell_type": "code",
   "execution_count": null,
   "metadata": {},
   "outputs": [],
   "source": [
    "summary.fig_carrier_yields()"
   ]
  },
  {
   "cell_type": "code",
   "execution_count": null,
   "metadata": {},
   "outputs": [],
   "source": [
    "summary.fig_carrier_local_share()"
   ]
  },
  {
   "cell_type": "code",
   "execution_count": null,
   "metadata": {},
   "outputs": [],
   "source": [
    "summary.fig_carrier_local_share(load_measure=\"leg_pax\")"
   ]
  },
  {
   "cell_type": "code",
   "execution_count": null,
   "metadata": {},
   "outputs": [],
   "source": [
    "summary.fig_fare_class_mix()"
   ]
  },
  {
   "cell_type": "code",
   "execution_count": null,
   "metadata": {},
   "outputs": [],
   "source": [
    "summary.fig_od_fare_class_mix(orig=\"ORD\", dest=\"LAX\")"
   ]
  },
  {
   "cell_type": "code",
   "execution_count": null,
   "metadata": {},
   "outputs": [],
   "source": [
    "summary.fig_segmentation_by_timeframe(\n",
    "    metric=\"bookings\", by_carrier=\"AL1\", by_class=True\n",
    ")"
   ]
  },
  {
   "cell_type": "code",
   "execution_count": null,
   "metadata": {},
   "outputs": [],
   "source": [
    "summary.fig_leg_forecasts(by_leg_id=201, of=[\"mu\", \"sigma\", \"closed\"])"
   ]
  },
  {
   "cell_type": "code",
   "execution_count": null,
   "metadata": {},
   "outputs": [],
   "source": [
    "summary.fig_leg_forecasts(by_leg_id=211, of=[\"mu\", \"sigma\", \"closed\"])"
   ]
  },
  {
   "cell_type": "code",
   "execution_count": null,
   "metadata": {},
   "outputs": [],
   "source": [
    "summary.fig_path_forecasts(by_path_id=1, of=[\"mu\", \"sigma\", \"closed\", \"adj_price\"])"
   ]
  },
  {
   "cell_type": "code",
   "execution_count": null,
   "metadata": {},
   "outputs": [],
   "source": [
    "summary.fig_path_forecasts(by_path_id=5, of=[\"mu\", \"sigma\", \"closed\", \"adj_price\"])"
   ]
  },
  {
   "cell_type": "code",
   "execution_count": null,
   "metadata": {},
   "outputs": [],
   "source": [
    "summary.fig_path_forecasts(by_path_id=9, of=[\"mu\", \"sigma\", \"closed\", \"adj_price\"])"
   ]
  },
  {
   "cell_type": "code",
   "execution_count": null,
   "metadata": {},
   "outputs": [],
   "source": [
    "summary.fig_bid_price_history()"
   ]
  },
  {
   "cell_type": "code",
   "execution_count": null,
   "metadata": {},
   "outputs": [],
   "source": [
    "summary.fig_bid_price_history(cap=\"some\")"
   ]
  }
 ],
 "metadata": {
  "kernelspec": {
   "display_name": "UMBRELLA",
   "language": "python",
   "name": "umbrella"
  },
  "language_info": {
   "codemirror_mode": {
    "name": "ipython",
    "version": 3
   },
   "file_extension": ".py",
   "mimetype": "text/x-python",
   "name": "python",
   "nbconvert_exporter": "python",
   "pygments_lexer": "ipython3",
   "version": "3.12.8"
  }
 },
 "nbformat": 4,
 "nbformat_minor": 4
}
